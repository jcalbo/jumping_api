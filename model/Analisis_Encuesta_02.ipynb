{
 "cells": [
  {
   "cell_type": "markdown",
   "id": "3cdb4043",
   "metadata": {},
   "source": [
    "# Analisis de los datos de la encuesta Jumping Girls (25-04-05)\n",
    "\n",
    "## CONNSOLIDADOS y en Ingles"
   ]
  },
  {
   "cell_type": "code",
   "execution_count": 1,
   "id": "d886fa10",
   "metadata": {},
   "outputs": [],
   "source": [
    "import pandas as pd"
   ]
  },
  {
   "cell_type": "code",
   "execution_count": 2,
   "id": "4a73f594",
   "metadata": {},
   "outputs": [],
   "source": [
    "encuesta_ESP = \"Encuesta Digital Girls_SP&ENG_C_Consolidados_250405.xlsx\""
   ]
  },
  {
   "cell_type": "code",
   "execution_count": 3,
   "id": "5735e54f",
   "metadata": {},
   "outputs": [
    {
     "data": {
      "text/html": [
       "<div>\n",
       "<style scoped>\n",
       "    .dataframe tbody tr th:only-of-type {\n",
       "        vertical-align: middle;\n",
       "    }\n",
       "\n",
       "    .dataframe tbody tr th {\n",
       "        vertical-align: top;\n",
       "    }\n",
       "\n",
       "    .dataframe thead th {\n",
       "        text-align: right;\n",
       "    }\n",
       "</style>\n",
       "<table border=\"1\" class=\"dataframe\">\n",
       "  <thead>\n",
       "    <tr style=\"text-align: right;\">\n",
       "      <th></th>\n",
       "      <th>ID</th>\n",
       "      <th>Label</th>\n",
       "      <th>Dibujar o pintar</th>\n",
       "      <th>Inventar historias</th>\n",
       "      <th>Actuar, bailar y cantar</th>\n",
       "      <th>Contruir cosas con bloques</th>\n",
       "      <th>Hacer experimentos o jugar con química</th>\n",
       "      <th>Observar insectos, plantas o estrellas</th>\n",
       "      <th>Hacer manualidades</th>\n",
       "      <th>Hacer preguntas sobre comó funcionan las cosas</th>\n",
       "      <th>...</th>\n",
       "      <th>Jugar con animales</th>\n",
       "      <th>Jugar con ordenadores o videojuegos</th>\n",
       "      <th>Resolver acertijos</th>\n",
       "      <th>Aprender sobre el cuerpo humano</th>\n",
       "      <th>Hacer cosas en equipo</th>\n",
       "      <th>Estar solo</th>\n",
       "      <th>Jugar a ser profesores</th>\n",
       "      <th>Asignatura1</th>\n",
       "      <th>Asignatura1.1</th>\n",
       "      <th>Personalidad</th>\n",
       "    </tr>\n",
       "  </thead>\n",
       "  <tbody>\n",
       "    <tr>\n",
       "      <th>0</th>\n",
       "      <td>ES001</td>\n",
       "      <td>STEM</td>\n",
       "      <td>3</td>\n",
       "      <td>3</td>\n",
       "      <td>1</td>\n",
       "      <td>3</td>\n",
       "      <td>3</td>\n",
       "      <td>3</td>\n",
       "      <td>3</td>\n",
       "      <td>1</td>\n",
       "      <td>...</td>\n",
       "      <td>1</td>\n",
       "      <td>3</td>\n",
       "      <td>3</td>\n",
       "      <td>2</td>\n",
       "      <td>1</td>\n",
       "      <td>3</td>\n",
       "      <td>1</td>\n",
       "      <td>física y quimica</td>\n",
       "      <td>arte y dibujo</td>\n",
       "      <td>Manos a la obra</td>\n",
       "    </tr>\n",
       "    <tr>\n",
       "      <th>1</th>\n",
       "      <td>ES002</td>\n",
       "      <td>STEM</td>\n",
       "      <td>3</td>\n",
       "      <td>3</td>\n",
       "      <td>3</td>\n",
       "      <td>2</td>\n",
       "      <td>2</td>\n",
       "      <td>3</td>\n",
       "      <td>3</td>\n",
       "      <td>2</td>\n",
       "      <td>...</td>\n",
       "      <td>2</td>\n",
       "      <td>1</td>\n",
       "      <td>2</td>\n",
       "      <td>2</td>\n",
       "      <td>3</td>\n",
       "      <td>2</td>\n",
       "      <td>3</td>\n",
       "      <td>matemáticas</td>\n",
       "      <td>historia</td>\n",
       "      <td>Organizador</td>\n",
       "    </tr>\n",
       "    <tr>\n",
       "      <th>2</th>\n",
       "      <td>ES003</td>\n",
       "      <td>STEM</td>\n",
       "      <td>1</td>\n",
       "      <td>2</td>\n",
       "      <td>1</td>\n",
       "      <td>2</td>\n",
       "      <td>2</td>\n",
       "      <td>1</td>\n",
       "      <td>2</td>\n",
       "      <td>3</td>\n",
       "      <td>...</td>\n",
       "      <td>3</td>\n",
       "      <td>3</td>\n",
       "      <td>3</td>\n",
       "      <td>2</td>\n",
       "      <td>2</td>\n",
       "      <td>2</td>\n",
       "      <td>2</td>\n",
       "      <td>matemáticas</td>\n",
       "      <td>educación física</td>\n",
       "      <td>Manos a la obra</td>\n",
       "    </tr>\n",
       "    <tr>\n",
       "      <th>3</th>\n",
       "      <td>ES004</td>\n",
       "      <td>STEM</td>\n",
       "      <td>3</td>\n",
       "      <td>1</td>\n",
       "      <td>1</td>\n",
       "      <td>1</td>\n",
       "      <td>1</td>\n",
       "      <td>1</td>\n",
       "      <td>3</td>\n",
       "      <td>3</td>\n",
       "      <td>...</td>\n",
       "      <td>3</td>\n",
       "      <td>3</td>\n",
       "      <td>2</td>\n",
       "      <td>3</td>\n",
       "      <td>3</td>\n",
       "      <td>2</td>\n",
       "      <td>3</td>\n",
       "      <td>ciencias</td>\n",
       "      <td>idiomas</td>\n",
       "      <td>Emprendedor</td>\n",
       "    </tr>\n",
       "    <tr>\n",
       "      <th>4</th>\n",
       "      <td>ES005</td>\n",
       "      <td>STEM</td>\n",
       "      <td>2</td>\n",
       "      <td>2</td>\n",
       "      <td>1</td>\n",
       "      <td>1</td>\n",
       "      <td>2</td>\n",
       "      <td>2</td>\n",
       "      <td>1</td>\n",
       "      <td>3</td>\n",
       "      <td>...</td>\n",
       "      <td>3</td>\n",
       "      <td>3</td>\n",
       "      <td>3</td>\n",
       "      <td>2</td>\n",
       "      <td>1</td>\n",
       "      <td>2</td>\n",
       "      <td>1</td>\n",
       "      <td>matemáticas</td>\n",
       "      <td>educación física</td>\n",
       "      <td>Social</td>\n",
       "    </tr>\n",
       "  </tbody>\n",
       "</table>\n",
       "<p>5 rows × 23 columns</p>\n",
       "</div>"
      ],
      "text/plain": [
       "      ID Label  Dibujar o pintar  Inventar historias  Actuar, bailar y cantar  \\\n",
       "0  ES001  STEM                 3                   3                        1   \n",
       "1  ES002  STEM                 3                   3                        3   \n",
       "2  ES003  STEM                 1                   2                        1   \n",
       "3  ES004  STEM                 3                   1                        1   \n",
       "4  ES005  STEM                 2                   2                        1   \n",
       "\n",
       "   Contruir cosas con bloques  Hacer experimentos o jugar con química  \\\n",
       "0                           3                                       3   \n",
       "1                           2                                       2   \n",
       "2                           2                                       2   \n",
       "3                           1                                       1   \n",
       "4                           1                                       2   \n",
       "\n",
       "   Observar insectos, plantas o estrellas  Hacer manualidades  \\\n",
       "0                                       3                   3   \n",
       "1                                       3                   3   \n",
       "2                                       1                   2   \n",
       "3                                       1                   3   \n",
       "4                                       2                   1   \n",
       "\n",
       "   Hacer preguntas sobre comó funcionan las cosas  ...  Jugar con animales  \\\n",
       "0                                               1  ...                   1   \n",
       "1                                               2  ...                   2   \n",
       "2                                               3  ...                   3   \n",
       "3                                               3  ...                   3   \n",
       "4                                               3  ...                   3   \n",
       "\n",
       "   Jugar con ordenadores o videojuegos  Resolver acertijos  \\\n",
       "0                                    3                   3   \n",
       "1                                    1                   2   \n",
       "2                                    3                   3   \n",
       "3                                    3                   2   \n",
       "4                                    3                   3   \n",
       "\n",
       "   Aprender sobre el cuerpo humano  Hacer cosas en equipo  Estar solo  \\\n",
       "0                                2                      1           3   \n",
       "1                                2                      3           2   \n",
       "2                                2                      2           2   \n",
       "3                                3                      3           2   \n",
       "4                                2                      1           2   \n",
       "\n",
       "   Jugar a ser profesores       Asignatura1      Asignatura1.1  \\\n",
       "0                       1  física y quimica      arte y dibujo   \n",
       "1                       3       matemáticas           historia   \n",
       "2                       2       matemáticas   educación física   \n",
       "3                       3          ciencias            idiomas   \n",
       "4                       1       matemáticas   educación física   \n",
       "\n",
       "      Personalidad  \n",
       "0  Manos a la obra  \n",
       "1      Organizador  \n",
       "2  Manos a la obra  \n",
       "3      Emprendedor  \n",
       "4           Social  \n",
       "\n",
       "[5 rows x 23 columns]"
      ]
     },
     "execution_count": 3,
     "metadata": {},
     "output_type": "execute_result"
    }
   ],
   "source": [
    "df = pd.read_excel(encuesta_ESP)\n",
    "df.head()"
   ]
  },
  {
   "cell_type": "code",
   "execution_count": 5,
   "id": "5b21f9df",
   "metadata": {},
   "outputs": [
    {
     "name": "stdout",
     "output_type": "stream",
     "text": [
      "Tenemos  480 respuestas de la encuesta en Ingles y Español\n"
     ]
    }
   ],
   "source": [
    "print(\"Tenemos \", df['Label'].count(), \"respuestas de la encuesta en Ingles y Español\")"
   ]
  },
  {
   "cell_type": "code",
   "execution_count": 6,
   "id": "7daffcf9",
   "metadata": {},
   "outputs": [
    {
     "data": {
      "text/plain": [
       "BUSINESS AND FINANCE                  212\n",
       "STEM                                  108\n",
       "HEALTH AND MEDICINE                    47\n",
       "LAW AND SOCIAL SCIENCE                 45\n",
       "CREATIVE - COMMUNICATION AND MEDIA     42\n",
       "EDUCATION AND TRAINING                 26\n",
       "Name: Label, dtype: int64"
      ]
     },
     "execution_count": 6,
     "metadata": {},
     "output_type": "execute_result"
    }
   ],
   "source": [
    "# por categorias profesionales\n",
    "df['Label'].value_counts()"
   ]
  },
  {
   "cell_type": "code",
   "execution_count": 7,
   "id": "51b5e284",
   "metadata": {},
   "outputs": [],
   "source": [
    "import matplotlib.pyplot as plt"
   ]
  },
  {
   "cell_type": "code",
   "execution_count": 9,
   "id": "b9d4a751",
   "metadata": {},
   "outputs": [
    {
     "data": {
      "text/plain": [
       "<AxesSubplot:>"
      ]
     },
     "execution_count": 9,
     "metadata": {},
     "output_type": "execute_result"
    },
    {
     "data": {
      "image/png": "[encoded data removed]",
      "text/plain": [
       "<Figure size 432x288 with 1 Axes>"
      ]
     },
     "metadata": {
      "needs_background": "light"
     },
     "output_type": "display_data"
    }
   ],
   "source": [
    "# Contar las clases\n",
    "label_counts = df['Label'].value_counts()\n",
    "# Crear gráfico de barras\n",
    "label_counts.plot(kind='bar', color='skyblue', edgecolor='black')"
   ]
  },
  {
   "cell_type": "code",
   "execution_count": 10,
   "id": "ebdf9110",
   "metadata": {},
   "outputs": [
    {
     "data": {
      "image/png": "[encoded data removed]",
      "text/plain": [
       "<Figure size 432x288 with 1 Axes>"
      ]
     },
     "metadata": {
      "needs_background": "light"
     },
     "output_type": "display_data"
    }
   ],
   "source": [
    "# Títulos y etiquetas\n",
    "plt.title(\"Distribución de profesiones en la encuesta\")\n",
    "plt.xlabel(\"Profesión (Label)\")\n",
    "plt.ylabel(\"Número de registros\")\n",
    "plt.xticks(rotation=45, ha='right')\n",
    "plt.tight_layout()\n",
    "plt.show()"
   ]
  },
  {
   "cell_type": "code",
   "execution_count": 15,
   "id": "87441e25",
   "metadata": {},
   "outputs": [
    {
     "data": {
      "image/png": "[encoded data removed]",
      "text/plain": [
       "<Figure size 432x288 with 1 Axes>"
      ]
     },
     "metadata": {
      "needs_background": "light"
     },
     "output_type": "display_data"
    }
   ],
   "source": [
    "# Contar las clases\n",
    "label_counts = df['Label'].value_counts()\n",
    "\n",
    "# Crear gráfico de barras\n",
    "ax = label_counts.plot(kind='bar', color='skyblue', edgecolor='black')\n",
    "\n",
    "# Títulos y etiquetas\n",
    "plt.title(\"Survey Data Distribution (Spanish + English)\")\n",
    "plt.xlabel(\"Profession (Label)\")\n",
    "plt.ylabel(\"Records\")\n",
    "plt.xticks(rotation=45, ha='right')\n",
    "\n",
    "plt.ylim(0, 270)\n",
    "\n",
    "# Añadir etiquetas de valor encima de cada barra\n",
    "for i, value in enumerate(label_counts):\n",
    "    ax.text(i, value + 2, str(value), ha='center', va='bottom', fontsize=9)\n",
    "\n",
    "#plt.tight_layout()\n",
    "plt.show()"
   ]
  },
  {
   "cell_type": "code",
   "execution_count": null,
   "id": "073aa926",
   "metadata": {},
   "outputs": [],
   "source": []
  },
  {
   "cell_type": "code",
   "execution_count": null,
   "id": "9fcb3c0a",
   "metadata": {},
   "outputs": [],
   "source": []
  },
  {
   "cell_type": "markdown",
   "id": "0aebfc6f",
   "metadata": {},
   "source": [
    "# Problemas\n",
    "\n",
    "## 1. En ambas encuestas hay una profesión que es mucho mas numerosa que las demás.\n",
    "\n",
    "## 2. Para algunas profesiones (\"NATURALEZA Y MEDIO AMBIENTE\" y otras) hay muy pocos ejemplos.\n"
   ]
  },
  {
   "cell_type": "code",
   "execution_count": null,
   "id": "b509c699",
   "metadata": {},
   "outputs": [],
   "source": []
  }
 ],
 "metadata": {
  "kernelspec": {
   "display_name": "Python 3 (ipykernel)",
   "language": "python",
   "name": "python3"
  },
  "language_info": {
   "codemirror_mode": {
    "name": "ipython",
    "version": 3
   },
   "file_extension": ".py",
   "mimetype": "text/x-python",
   "name": "python",
   "nbconvert_exporter": "python",
   "pygments_lexer": "ipython3",
   "version": "3.9.12"
  }
 },
 "nbformat": 4,
 "nbformat_minor": 5
}
