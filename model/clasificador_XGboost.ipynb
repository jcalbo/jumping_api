{
 "cells": [
  {
   "cell_type": "code",
   "execution_count": null,
   "id": "2207ca75",
   "metadata": {},
   "outputs": [],
   "source": []
  },
  {
   "cell_type": "code",
   "execution_count": 1,
   "id": "d27c8b1d",
   "metadata": {},
   "outputs": [],
   "source": [
    "# Reimportar librerías tras el reinicio\n",
    "import pandas as pd\n",
    "import xgboost as xgb\n",
    "from sklearn.model_selection import train_test_split\n",
    "from sklearn.preprocessing import LabelEncoder\n",
    "from sklearn.metrics import confusion_matrix, accuracy_score\n",
    "import matplotlib.pyplot as plt\n",
    "import seaborn as sns"
   ]
  },
  {
   "cell_type": "code",
   "execution_count": 5,
   "id": "219fb090",
   "metadata": {},
   "outputs": [],
   "source": [
    "#!pip install openpyxl"
   ]
  },
  {
   "cell_type": "code",
   "execution_count": 13,
   "id": "e91815b7",
   "metadata": {},
   "outputs": [
    {
     "data": {
      "text/html": [
       "<div>\n",
       "<style scoped>\n",
       "    .dataframe tbody tr th:only-of-type {\n",
       "        vertical-align: middle;\n",
       "    }\n",
       "\n",
       "    .dataframe tbody tr th {\n",
       "        vertical-align: top;\n",
       "    }\n",
       "\n",
       "    .dataframe thead th {\n",
       "        text-align: right;\n",
       "    }\n",
       "</style>\n",
       "<table border=\"1\" class=\"dataframe\">\n",
       "  <thead>\n",
       "    <tr style=\"text-align: right;\">\n",
       "      <th></th>\n",
       "      <th>Label</th>\n",
       "      <th>Dibujar o pintar</th>\n",
       "      <th>Inventar historias</th>\n",
       "      <th>Actuar, bailar y cantar</th>\n",
       "      <th>Contruir cosas con bloques</th>\n",
       "      <th>Hacer experimentos o jugar con química</th>\n",
       "      <th>Observar insectos, plantas o estrellas</th>\n",
       "      <th>Hacer manualidades</th>\n",
       "      <th>Hacer preguntas sobre comó funcionan las cosas</th>\n",
       "      <th>Hacer deporte</th>\n",
       "      <th>...</th>\n",
       "      <th>Jugar con animales</th>\n",
       "      <th>Jugar con ordenadores o videojuegos</th>\n",
       "      <th>Resolver acertijos</th>\n",
       "      <th>Aprender sobre el cuerpo humano</th>\n",
       "      <th>Hacer cosas en equipo</th>\n",
       "      <th>Estar solo</th>\n",
       "      <th>Jugar a ser profesores</th>\n",
       "      <th>Asignatura1</th>\n",
       "      <th>Asignatura1.1</th>\n",
       "      <th>Personalidad</th>\n",
       "    </tr>\n",
       "  </thead>\n",
       "  <tbody>\n",
       "    <tr>\n",
       "      <th>0</th>\n",
       "      <td>NEGOCIOS Y FINANZAS</td>\n",
       "      <td>2</td>\n",
       "      <td>1</td>\n",
       "      <td>1</td>\n",
       "      <td>3</td>\n",
       "      <td>1</td>\n",
       "      <td>1</td>\n",
       "      <td>3</td>\n",
       "      <td>2</td>\n",
       "      <td>1</td>\n",
       "      <td>...</td>\n",
       "      <td>1</td>\n",
       "      <td>1</td>\n",
       "      <td>3</td>\n",
       "      <td>3</td>\n",
       "      <td>3</td>\n",
       "      <td>1</td>\n",
       "      <td>3</td>\n",
       "      <td>matemáticas</td>\n",
       "      <td>idiomas</td>\n",
       "      <td>Organizador</td>\n",
       "    </tr>\n",
       "    <tr>\n",
       "      <th>1</th>\n",
       "      <td>NEGOCIOS Y FINANZAS</td>\n",
       "      <td>3</td>\n",
       "      <td>3</td>\n",
       "      <td>3</td>\n",
       "      <td>2</td>\n",
       "      <td>2</td>\n",
       "      <td>1</td>\n",
       "      <td>3</td>\n",
       "      <td>2</td>\n",
       "      <td>2</td>\n",
       "      <td>...</td>\n",
       "      <td>1</td>\n",
       "      <td>2</td>\n",
       "      <td>1</td>\n",
       "      <td>1</td>\n",
       "      <td>3</td>\n",
       "      <td>1</td>\n",
       "      <td>3</td>\n",
       "      <td>lengua</td>\n",
       "      <td>arte y dibujo</td>\n",
       "      <td>Social</td>\n",
       "    </tr>\n",
       "    <tr>\n",
       "      <th>2</th>\n",
       "      <td>NEGOCIOS Y FINANZAS</td>\n",
       "      <td>1</td>\n",
       "      <td>1</td>\n",
       "      <td>1</td>\n",
       "      <td>1</td>\n",
       "      <td>3</td>\n",
       "      <td>2</td>\n",
       "      <td>2</td>\n",
       "      <td>3</td>\n",
       "      <td>3</td>\n",
       "      <td>...</td>\n",
       "      <td>1</td>\n",
       "      <td>2</td>\n",
       "      <td>2</td>\n",
       "      <td>2</td>\n",
       "      <td>3</td>\n",
       "      <td>1</td>\n",
       "      <td>3</td>\n",
       "      <td>matemáticas</td>\n",
       "      <td>educación física</td>\n",
       "      <td>Realista</td>\n",
       "    </tr>\n",
       "    <tr>\n",
       "      <th>3</th>\n",
       "      <td>NEGOCIOS Y FINANZAS</td>\n",
       "      <td>1</td>\n",
       "      <td>2</td>\n",
       "      <td>1</td>\n",
       "      <td>3</td>\n",
       "      <td>2</td>\n",
       "      <td>1</td>\n",
       "      <td>1</td>\n",
       "      <td>3</td>\n",
       "      <td>3</td>\n",
       "      <td>...</td>\n",
       "      <td>2</td>\n",
       "      <td>2</td>\n",
       "      <td>2</td>\n",
       "      <td>1</td>\n",
       "      <td>3</td>\n",
       "      <td>2</td>\n",
       "      <td>2</td>\n",
       "      <td>matemáticas</td>\n",
       "      <td>ciencias</td>\n",
       "      <td>Organizador</td>\n",
       "    </tr>\n",
       "    <tr>\n",
       "      <th>4</th>\n",
       "      <td>NEGOCIOS Y FINANZAS</td>\n",
       "      <td>3</td>\n",
       "      <td>2</td>\n",
       "      <td>1</td>\n",
       "      <td>2</td>\n",
       "      <td>1</td>\n",
       "      <td>1</td>\n",
       "      <td>1</td>\n",
       "      <td>2</td>\n",
       "      <td>3</td>\n",
       "      <td>...</td>\n",
       "      <td>1</td>\n",
       "      <td>2</td>\n",
       "      <td>3</td>\n",
       "      <td>2</td>\n",
       "      <td>3</td>\n",
       "      <td>1</td>\n",
       "      <td>2</td>\n",
       "      <td>historia</td>\n",
       "      <td>arte y dibujo</td>\n",
       "      <td>Social</td>\n",
       "    </tr>\n",
       "  </tbody>\n",
       "</table>\n",
       "<p>5 rows × 22 columns</p>\n",
       "</div>"
      ],
      "text/plain": [
       "                 Label  Dibujar o pintar  Inventar historias  \\\n",
       "0  NEGOCIOS Y FINANZAS                 2                   1   \n",
       "1  NEGOCIOS Y FINANZAS                 3                   3   \n",
       "2  NEGOCIOS Y FINANZAS                 1                   1   \n",
       "3  NEGOCIOS Y FINANZAS                 1                   2   \n",
       "4  NEGOCIOS Y FINANZAS                 3                   2   \n",
       "\n",
       "   Actuar, bailar y cantar  Contruir cosas con bloques  \\\n",
       "0                        1                           3   \n",
       "1                        3                           2   \n",
       "2                        1                           1   \n",
       "3                        1                           3   \n",
       "4                        1                           2   \n",
       "\n",
       "   Hacer experimentos o jugar con química  \\\n",
       "0                                       1   \n",
       "1                                       2   \n",
       "2                                       3   \n",
       "3                                       2   \n",
       "4                                       1   \n",
       "\n",
       "   Observar insectos, plantas o estrellas  Hacer manualidades  \\\n",
       "0                                       1                   3   \n",
       "1                                       1                   3   \n",
       "2                                       2                   2   \n",
       "3                                       1                   1   \n",
       "4                                       1                   1   \n",
       "\n",
       "   Hacer preguntas sobre comó funcionan las cosas  Hacer deporte  ...  \\\n",
       "0                                               2              1  ...   \n",
       "1                                               2              2  ...   \n",
       "2                                               3              3  ...   \n",
       "3                                               3              3  ...   \n",
       "4                                               2              3  ...   \n",
       "\n",
       "   Jugar con animales  Jugar con ordenadores o videojuegos  \\\n",
       "0                   1                                    1   \n",
       "1                   1                                    2   \n",
       "2                   1                                    2   \n",
       "3                   2                                    2   \n",
       "4                   1                                    2   \n",
       "\n",
       "   Resolver acertijos  Aprender sobre el cuerpo humano  Hacer cosas en equipo  \\\n",
       "0                   3                                3                      3   \n",
       "1                   1                                1                      3   \n",
       "2                   2                                2                      3   \n",
       "3                   2                                1                      3   \n",
       "4                   3                                2                      3   \n",
       "\n",
       "   Estar solo  Jugar a ser profesores  Asignatura1      Asignatura1.1  \\\n",
       "0           1                       3  matemáticas            idiomas   \n",
       "1           1                       3       lengua      arte y dibujo   \n",
       "2           1                       3  matemáticas   educación física   \n",
       "3           2                       2  matemáticas           ciencias   \n",
       "4           1                       2     historia      arte y dibujo   \n",
       "\n",
       "  Personalidad  \n",
       "0  Organizador  \n",
       "1       Social  \n",
       "2     Realista  \n",
       "3  Organizador  \n",
       "4       Social  \n",
       "\n",
       "[5 rows x 22 columns]"
      ]
     },
     "execution_count": 13,
     "metadata": {},
     "output_type": "execute_result"
    }
   ],
   "source": [
    "# Cargar archivo nuevamente\n",
    "file_path = \"Encuesta Digital Girls_SP&ENG_A.xlsx\"\n",
    "df_new = pd.read_excel(file_path)\n",
    "df_new.head()"
   ]
  },
  {
   "cell_type": "code",
   "execution_count": 15,
   "id": "a2128d66",
   "metadata": {},
   "outputs": [
    {
     "data": {
      "text/plain": [
       "NEGOCIOS Y FINANZAS                     106\n",
       "TEGNOLOGIA E INFORMATICA                 62\n",
       "SALUD Y MEDICINA                         43\n",
       "DERECHO Y CIENCIAS SOCIALES              35\n",
       "INGENIERIA Y CONSTRUCCION                32\n",
       "EDUCACIÓN Y FORMACIÓN                    25\n",
       "COMUNICACIÓN Y MEDIOS                    25\n",
       "CREATIVAS Y ARTISTICAS                   13\n",
       "CIENCIAS CIENTIFICAS E INVESTIGACION      8\n",
       "NATURALEZA Y MEDIO AMBIENTE               7\n",
       "Name: Label, dtype: int64"
      ]
     },
     "execution_count": 15,
     "metadata": {},
     "output_type": "execute_result"
    }
   ],
   "source": [
    "df_new['Label'].value_counts()"
   ]
  },
  {
   "cell_type": "code",
   "execution_count": 16,
   "id": "2ccfcb49",
   "metadata": {},
   "outputs": [],
   "source": [
    "# Preprocesamiento\n",
    "df_model = df_new.copy()\n",
    "le = LabelEncoder()\n",
    "df_model['Label'] = le.fit_transform(df_model['Label'])\n",
    "df_model = pd.get_dummies(df_model, columns=['Asignatura1', 'Asignatura1.1', 'Personalidad'])\n",
    "\n",
    "X = df_model.drop(columns=['Label'])\n",
    "y = df_model['Label']"
   ]
  },
  {
   "cell_type": "code",
   "execution_count": 17,
   "id": "94b48041",
   "metadata": {},
   "outputs": [
    {
     "data": {
      "text/plain": [
       "Index(['Dibujar o pintar', 'Inventar historias', 'Actuar, bailar y cantar',\n",
       "       'Contruir cosas con bloques', 'Hacer experimentos o jugar con química',\n",
       "       'Observar insectos, plantas o estrellas', 'Hacer manualidades',\n",
       "       'Hacer preguntas sobre comó funcionan las cosas', 'Hacer deporte',\n",
       "       'Leer libros', 'Presentar cosas en publico', 'Jugar con animales',\n",
       "       'Jugar con ordenadores o videojuegos', 'Resolver acertijos',\n",
       "       'Aprender sobre el cuerpo humano', 'Hacer cosas en equipo',\n",
       "       'Estar solo', 'Jugar a ser profesores', 'Asignatura1_arte y dibujo',\n",
       "       'Asignatura1_ciencias', 'Asignatura1_educación física',\n",
       "       'Asignatura1_física y quimica', 'Asignatura1_historia',\n",
       "       'Asignatura1_idiomas', 'Asignatura1_lengua', 'Asignatura1_matemáticas',\n",
       "       'Asignatura1_música y danza', 'Asignatura1.1_ arte y dibujo',\n",
       "       'Asignatura1.1_ ciencias', 'Asignatura1.1_ educación física',\n",
       "       'Asignatura1.1_ física y quimica', 'Asignatura1.1_ historia',\n",
       "       'Asignatura1.1_ idiomas', 'Asignatura1.1_ lengua',\n",
       "       'Asignatura1.1_ literatura', 'Asignatura1.1_ música y danza',\n",
       "       'Personalidad_Artístico', 'Personalidad_Emprendedor',\n",
       "       'Personalidad_Investigador', 'Personalidad_Manos a la obra',\n",
       "       'Personalidad_Organizador', 'Personalidad_Realista',\n",
       "       'Personalidad_Social'],\n",
       "      dtype='object')"
      ]
     },
     "execution_count": 17,
     "metadata": {},
     "output_type": "execute_result"
    }
   ],
   "source": [
    "# Separación\n",
    "X_train, X_test, y_train, y_test = train_test_split(X, y, stratify=y, test_size=0.2, random_state=42)\n",
    "\n",
    "# Limpieza de columnas\n",
    "X_train.columns = [col.replace('[', '').replace(']', '').replace('<', '_').replace('>', '_') for col in X_train.columns]\n",
    "X_test.columns = X_train.columns\n",
    "X_test.columns"
   ]
  },
  {
   "cell_type": "code",
   "execution_count": 18,
   "id": "5a933e15",
   "metadata": {},
   "outputs": [
    {
     "name": "stderr",
     "output_type": "stream",
     "text": [
      "C:\\Users\\jeca\\anaconda3\\envs\\nlp_portilla\\lib\\site-packages\\xgboost\\core.py:158: UserWarning: [00:31:50] WARNING: C:\\buildkite-agent\\builds\\buildkite-windows-cpu-autoscaling-group-i-08cbc0333d8d4aae1-1\\xgboost\\xgboost-ci-windows\\src\\learner.cc:740: \n",
      "Parameters: { \"use_label_encoder\" } are not used.\n",
      "\n",
      "  warnings.warn(smsg, UserWarning)\n"
     ]
    },
    {
     "data": {
      "text/html": [
       "<style>#sk-container-id-2 {color: black;background-color: white;}#sk-container-id-2 pre{padding: 0;}#sk-container-id-2 div.sk-toggleable {background-color: white;}#sk-container-id-2 label.sk-toggleable__label {cursor: pointer;display: block;width: 100%;margin-bottom: 0;padding: 0.3em;box-sizing: border-box;text-align: center;}#sk-container-id-2 label.sk-toggleable__label-arrow:before {content: \"▸\";float: left;margin-right: 0.25em;color: #696969;}#sk-container-id-2 label.sk-toggleable__label-arrow:hover:before {color: black;}#sk-container-id-2 div.sk-estimator:hover label.sk-toggleable__label-arrow:before {color: black;}#sk-container-id-2 div.sk-toggleable__content {max-height: 0;max-width: 0;overflow: hidden;text-align: left;background-color: #f0f8ff;}#sk-container-id-2 div.sk-toggleable__content pre {margin: 0.2em;color: black;border-radius: 0.25em;background-color: #f0f8ff;}#sk-container-id-2 input.sk-toggleable__control:checked~div.sk-toggleable__content {max-height: 200px;max-width: 100%;overflow: auto;}#sk-container-id-2 input.sk-toggleable__control:checked~label.sk-toggleable__label-arrow:before {content: \"▾\";}#sk-container-id-2 div.sk-estimator input.sk-toggleable__control:checked~label.sk-toggleable__label {background-color: #d4ebff;}#sk-container-id-2 div.sk-label input.sk-toggleable__control:checked~label.sk-toggleable__label {background-color: #d4ebff;}#sk-container-id-2 input.sk-hidden--visually {border: 0;clip: rect(1px 1px 1px 1px);clip: rect(1px, 1px, 1px, 1px);height: 1px;margin: -1px;overflow: hidden;padding: 0;position: absolute;width: 1px;}#sk-container-id-2 div.sk-estimator {font-family: monospace;background-color: #f0f8ff;border: 1px dotted black;border-radius: 0.25em;box-sizing: border-box;margin-bottom: 0.5em;}#sk-container-id-2 div.sk-estimator:hover {background-color: #d4ebff;}#sk-container-id-2 div.sk-parallel-item::after {content: \"\";width: 100%;border-bottom: 1px solid gray;flex-grow: 1;}#sk-container-id-2 div.sk-label:hover label.sk-toggleable__label {background-color: #d4ebff;}#sk-container-id-2 div.sk-serial::before {content: \"\";position: absolute;border-left: 1px solid gray;box-sizing: border-box;top: 0;bottom: 0;left: 50%;z-index: 0;}#sk-container-id-2 div.sk-serial {display: flex;flex-direction: column;align-items: center;background-color: white;padding-right: 0.2em;padding-left: 0.2em;position: relative;}#sk-container-id-2 div.sk-item {position: relative;z-index: 1;}#sk-container-id-2 div.sk-parallel {display: flex;align-items: stretch;justify-content: center;background-color: white;position: relative;}#sk-container-id-2 div.sk-item::before, #sk-container-id-2 div.sk-parallel-item::before {content: \"\";position: absolute;border-left: 1px solid gray;box-sizing: border-box;top: 0;bottom: 0;left: 50%;z-index: -1;}#sk-container-id-2 div.sk-parallel-item {display: flex;flex-direction: column;z-index: 1;position: relative;background-color: white;}#sk-container-id-2 div.sk-parallel-item:first-child::after {align-self: flex-end;width: 50%;}#sk-container-id-2 div.sk-parallel-item:last-child::after {align-self: flex-start;width: 50%;}#sk-container-id-2 div.sk-parallel-item:only-child::after {width: 0;}#sk-container-id-2 div.sk-dashed-wrapped {border: 1px dashed gray;margin: 0 0.4em 0.5em 0.4em;box-sizing: border-box;padding-bottom: 0.4em;background-color: white;}#sk-container-id-2 div.sk-label label {font-family: monospace;font-weight: bold;display: inline-block;line-height: 1.2em;}#sk-container-id-2 div.sk-label-container {text-align: center;}#sk-container-id-2 div.sk-container {/* jupyter's `normalize.less` sets `[hidden] { display: none; }` but bootstrap.min.css set `[hidden] { display: none !important; }` so we also need the `!important` here to be able to override the default hidden behavior on the sphinx rendered scikit-learn.org. See: https://github.com/scikit-learn/scikit-learn/issues/21755 */display: inline-block !important;position: relative;}#sk-container-id-2 div.sk-text-repr-fallback {display: none;}</style><div id=\"sk-container-id-2\" class=\"sk-top-container\"><div class=\"sk-text-repr-fallback\"><pre>XGBClassifier(base_score=None, booster=None, callbacks=None,\n",
       "              colsample_bylevel=None, colsample_bynode=None,\n",
       "              colsample_bytree=None, device=None, early_stopping_rounds=None,\n",
       "              enable_categorical=False, eval_metric=&#x27;mlogloss&#x27;,\n",
       "              feature_types=None, gamma=None, grow_policy=None,\n",
       "              importance_type=None, interaction_constraints=None,\n",
       "              learning_rate=None, max_bin=None, max_cat_threshold=None,\n",
       "              max_cat_to_onehot=None, max_delta_step=None, max_depth=None,\n",
       "              max_leaves=None, min_child_weight=None, missing=nan,\n",
       "              monotone_constraints=None, multi_strategy=None, n_estimators=None,\n",
       "              n_jobs=None, num_class=10, num_parallel_tree=None, ...)</pre><b>In a Jupyter environment, please rerun this cell to show the HTML representation or trust the notebook. <br />On GitHub, the HTML representation is unable to render, please try loading this page with nbviewer.org.</b></div><div class=\"sk-container\" hidden><div class=\"sk-item\"><div class=\"sk-estimator sk-toggleable\"><input class=\"sk-toggleable__control sk-hidden--visually\" id=\"sk-estimator-id-2\" type=\"checkbox\" checked><label for=\"sk-estimator-id-2\" class=\"sk-toggleable__label sk-toggleable__label-arrow\">XGBClassifier</label><div class=\"sk-toggleable__content\"><pre>XGBClassifier(base_score=None, booster=None, callbacks=None,\n",
       "              colsample_bylevel=None, colsample_bynode=None,\n",
       "              colsample_bytree=None, device=None, early_stopping_rounds=None,\n",
       "              enable_categorical=False, eval_metric=&#x27;mlogloss&#x27;,\n",
       "              feature_types=None, gamma=None, grow_policy=None,\n",
       "              importance_type=None, interaction_constraints=None,\n",
       "              learning_rate=None, max_bin=None, max_cat_threshold=None,\n",
       "              max_cat_to_onehot=None, max_delta_step=None, max_depth=None,\n",
       "              max_leaves=None, min_child_weight=None, missing=nan,\n",
       "              monotone_constraints=None, multi_strategy=None, n_estimators=None,\n",
       "              n_jobs=None, num_class=10, num_parallel_tree=None, ...)</pre></div></div></div></div></div>"
      ],
      "text/plain": [
       "XGBClassifier(base_score=None, booster=None, callbacks=None,\n",
       "              colsample_bylevel=None, colsample_bynode=None,\n",
       "              colsample_bytree=None, device=None, early_stopping_rounds=None,\n",
       "              enable_categorical=False, eval_metric='mlogloss',\n",
       "              feature_types=None, gamma=None, grow_policy=None,\n",
       "              importance_type=None, interaction_constraints=None,\n",
       "              learning_rate=None, max_bin=None, max_cat_threshold=None,\n",
       "              max_cat_to_onehot=None, max_delta_step=None, max_depth=None,\n",
       "              max_leaves=None, min_child_weight=None, missing=nan,\n",
       "              monotone_constraints=None, multi_strategy=None, n_estimators=None,\n",
       "              n_jobs=None, num_class=10, num_parallel_tree=None, ...)"
      ]
     },
     "execution_count": 18,
     "metadata": {},
     "output_type": "execute_result"
    }
   ],
   "source": [
    "# Entrenar modelo\n",
    "model = xgb.XGBClassifier(\n",
    "    objective='multi:softmax',\n",
    "    num_class=len(le.classes_),\n",
    "    eval_metric='mlogloss',\n",
    "    use_label_encoder=False,\n",
    "    random_state=42\n",
    ")\n",
    "model.fit(X_train, y_train)"
   ]
  },
  {
   "cell_type": "code",
   "execution_count": 19,
   "id": "fe8bf9a3",
   "metadata": {},
   "outputs": [],
   "source": [
    "# Predicciones\n",
    "y_pred = model.predict(X_test)"
   ]
  },
  {
   "cell_type": "code",
   "execution_count": 20,
   "id": "253d2bdf",
   "metadata": {},
   "outputs": [],
   "source": [
    "# Matriz de confusión y Accuracy\n",
    "cm = confusion_matrix(y_test, y_pred)\n",
    "accuracy = accuracy_score(y_test, y_pred)\n",
    "labels = le.inverse_transform(sorted(y_test.unique()))"
   ]
  },
  {
   "cell_type": "code",
   "execution_count": 21,
   "id": "7579aff5",
   "metadata": {},
   "outputs": [
    {
     "data": {
      "image/png": "[encoded data removed]",
      "text/plain": [
       "<Figure size 720x504 with 2 Axes>"
      ]
     },
     "metadata": {
      "needs_background": "light"
     },
     "output_type": "display_data"
    }
   ],
   "source": [
    "# Visualización\n",
    "plt.figure(figsize=(10, 7))\n",
    "sns.heatmap(cm, annot=True, fmt='d', xticklabels=labels, yticklabels=labels, cmap='Blues')\n",
    "plt.xlabel(\"Predicción\")\n",
    "plt.ylabel(\"Valor Real\")\n",
    "plt.title(\"Matriz de Confusión - XGBoost (Multiclase)\")\n",
    "plt.xticks(rotation=45, ha='right')\n",
    "plt.yticks(rotation=0)\n",
    "plt.tight_layout()\n",
    "plt.show()"
   ]
  },
  {
   "cell_type": "code",
   "execution_count": 22,
   "id": "6c4c76d5",
   "metadata": {},
   "outputs": [
    {
     "data": {
      "text/plain": [
       "0.2638888888888889"
      ]
     },
     "execution_count": 22,
     "metadata": {},
     "output_type": "execute_result"
    }
   ],
   "source": [
    "accuracy"
   ]
  },
  {
   "cell_type": "code",
   "execution_count": null,
   "id": "4c997087",
   "metadata": {},
   "outputs": [],
   "source": []
  },
  {
   "cell_type": "code",
   "execution_count": null,
   "id": "582c50d0",
   "metadata": {},
   "outputs": [],
   "source": []
  },
  {
   "cell_type": "code",
   "execution_count": null,
   "id": "2c1c357a",
   "metadata": {},
   "outputs": [],
   "source": []
  },
  {
   "cell_type": "code",
   "execution_count": null,
   "id": "37f81ab6",
   "metadata": {},
   "outputs": [],
   "source": []
  }
 ],
 "metadata": {
  "kernelspec": {
   "display_name": "Python 3 (ipykernel)",
   "language": "python",
   "name": "python3"
  },
  "language_info": {
   "codemirror_mode": {
    "name": "ipython",
    "version": 3
   },
   "file_extension": ".py",
   "mimetype": "text/x-python",
   "name": "python",
   "nbconvert_exporter": "python",
   "pygments_lexer": "ipython3",
   "version": "3.9.12"
  }
 },
 "nbformat": 4,
 "nbformat_minor": 5
}
