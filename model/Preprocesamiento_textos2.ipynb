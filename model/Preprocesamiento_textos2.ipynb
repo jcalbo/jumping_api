{
 "cells": [
  {
   "cell_type": "code",
   "execution_count": null,
   "id": "db33cba2",
   "metadata": {},
   "outputs": [],
   "source": []
  },
  {
   "cell_type": "code",
   "execution_count": null,
   "id": "d886fa10",
   "metadata": {},
   "outputs": [],
   "source": [
    "import pandas as pd"
   ]
  },
  {
   "cell_type": "code",
   "execution_count": null,
   "id": "2948424d",
   "metadata": {},
   "outputs": [],
   "source": [
    "def leer_archivo_y_generar_ficheros(nombre_archivo, nombre_fichero1, nombre_fichero2):\n",
    "    \"\"\"\n",
    "    Lee un archivo de texto con dos strings separados por comas y genera dos ficheros de texto.\n",
    "\n",
    "    Args:\n",
    "        nombre_archivo (str): La ruta del archivo de texto de entrada.\n",
    "        nombre_fichero1 (str): La ruta del fichero de texto para la columna 1.\n",
    "        nombre_fichero2 (str): La ruta del fichero de texto para la columna 2.\n",
    "    \"\"\"\n",
    "\n",
    "    try:\n",
    "        # Leer el archivo de texto con Pandas\n",
    "        df = pd.read_csv(nombre_archivo, header=None, names=['columna1', 'columna2'])\n",
    "\n",
    "        # Guardar la columna 1 en un archivo\n",
    "        df['columna1'].to_csv(nombre_fichero1, index=False, header=False)\n",
    "\n",
    "        # Guardar la columna 2 en un archivo\n",
    "        df['columna2'].to_csv(nombre_fichero2, index=False, header=False)\n",
    "\n",
    "        print(f\"Ficheros '{nombre_fichero1}' y '{nombre_fichero2}' generados con éxito.\")\n",
    "\n",
    "    except FileNotFoundError:\n",
    "        print(f\"Error: El archivo '{nombre_archivo}' no fue encontrado.\")\n",
    "    except Exception as e:\n",
    "        print(f\"Ocurrió un error inesperado: {e}\")\n",
    "\n"
   ]
  },
  {
   "cell_type": "code",
   "execution_count": null,
   "id": "4c1dbbdc",
   "metadata": {},
   "outputs": [],
   "source": [
    "# Ejemplo de uso\n",
    "nombre_archivo = \"datos.txt\"  # Reemplaza con el nombre de tu archivo de entrada.\n",
    "nombre_fichero1 = \"columna1.txt\"\n",
    "nombre_fichero2 = \"columna2.txt\"\n",
    "\n",
    "#Generar un fichero de ejemplo si no existe.\n",
    "try:\n",
    "    with open(nombre_archivo, 'x') as f:\n",
    "        f.write('valor1,valor2\\nvalor3,valor4\\nvalor5,valor6')\n",
    "except FileExistsError:\n",
    "    print('El fichero ya existe')\n",
    "\n",
    "leer_archivo_y_generar_ficheros(nombre_archivo, nombre_fichero1, nombre_fichero2)"
   ]
  },
  {
   "cell_type": "code",
   "execution_count": null,
   "id": "03e426fa",
   "metadata": {},
   "outputs": [],
   "source": []
  },
  {
   "cell_type": "code",
   "execution_count": null,
   "id": "572874e6",
   "metadata": {},
   "outputs": [],
   "source": []
  },
  {
   "cell_type": "code",
   "execution_count": null,
   "id": "d6453000",
   "metadata": {},
   "outputs": [],
   "source": []
  },
  {
   "cell_type": "code",
   "execution_count": null,
   "id": "b509c699",
   "metadata": {},
   "outputs": [],
   "source": []
  }
 ],
 "metadata": {
  "kernelspec": {
   "display_name": "Python 3 (ipykernel)",
   "language": "python",
   "name": "python3"
  },
  "language_info": {
   "codemirror_mode": {
    "name": "ipython",
    "version": 3
   },
   "file_extension": ".py",
   "mimetype": "text/x-python",
   "name": "python",
   "nbconvert_exporter": "python",
   "pygments_lexer": "ipython3",
   "version": "3.9.12"
  }
 },
 "nbformat": 4,
 "nbformat_minor": 5
}
